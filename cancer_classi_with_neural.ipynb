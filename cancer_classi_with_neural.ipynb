{
 "cells": [
  {
   "cell_type": "code",
   "execution_count": null,
   "outputs": [],
   "source": [
    "import matplotlib.pyplot as plt\n",
    "import numpy as np\n",
    "import pandas as pd\n",
    "from sklearn.model_selection import train_test_split\n",
    "import matplotlib.pyplot as plt\n",
    "from sklearn.linear_model import LogisticRegression\n",
    "import sklearn.datasets\n",
    "from sklearn.metrics import accuracy_score"
   ],
   "metadata": {
    "collapsed": false
   },
   "id": "dad9c7e91b1706da"
  },
  {
   "cell_type": "code",
   "execution_count": null,
   "outputs": [],
   "source": [
    "data_as_arrays = sklearn.datasets.load_breast_cancer()"
   ],
   "metadata": {
    "collapsed": false
   },
   "id": "6aef77e5e228ff6d"
  },
  {
   "cell_type": "code",
   "execution_count": null,
   "outputs": [],
   "source": [
    "data_as_arrays"
   ],
   "metadata": {
    "collapsed": false
   },
   "id": "c1ec6039930c1f33"
  },
  {
   "cell_type": "code",
   "execution_count": null,
   "outputs": [],
   "source": [
    "cancer_data = pd.DataFrame(data_as_arrays.data, columns=data_as_arrays.feature_names)"
   ],
   "metadata": {
    "collapsed": false
   },
   "id": "803418217d0eb684"
  },
  {
   "cell_type": "code",
   "execution_count": null,
   "outputs": [],
   "source": [
    "cancer_data.head()"
   ],
   "metadata": {
    "collapsed": false
   },
   "id": "b199c2247454629b"
  },
  {
   "cell_type": "code",
   "execution_count": null,
   "outputs": [],
   "source": [
    "cancer_data['diagnosis'] = data_as_arrays.target"
   ],
   "metadata": {
    "collapsed": false
   },
   "id": "b572d7233310c466"
  },
  {
   "cell_type": "code",
   "execution_count": null,
   "outputs": [],
   "source": [
    "cancer_data.tail()"
   ],
   "metadata": {
    "collapsed": false
   },
   "id": "c4159706b7e7d57b"
  },
  {
   "cell_type": "code",
   "execution_count": null,
   "outputs": [],
   "source": [
    "cancer_data.info()"
   ],
   "metadata": {
    "collapsed": false
   },
   "id": "9fec6fdc3689a5e3"
  },
  {
   "cell_type": "code",
   "execution_count": null,
   "outputs": [],
   "source": [
    "cancer_data.describe()"
   ],
   "metadata": {
    "collapsed": false
   },
   "id": "6d70ccb1566d6e43"
  },
  {
   "cell_type": "code",
   "execution_count": null,
   "outputs": [],
   "source": [
    "cancer_data.isnull().sum()"
   ],
   "metadata": {
    "collapsed": false
   },
   "id": "4177a67ee7a11b6f"
  },
  {
   "cell_type": "code",
   "execution_count": null,
   "outputs": [],
   "source": [
    "cancer_data['diagnosis'].value_counts()"
   ],
   "metadata": {
    "collapsed": false
   },
   "id": "cf7d18e6e7b37672"
  },
  {
   "cell_type": "code",
   "execution_count": null,
   "outputs": [],
   "source": [
    "cancer_data.groupby('diagnosis').mean()"
   ],
   "metadata": {
    "collapsed": false
   },
   "id": "5c3b8c4c56b1f2b2"
  },
  {
   "cell_type": "code",
   "execution_count": null,
   "outputs": [],
   "source": [
    "x = cancer_data.drop('diagnosis', axis=1)\n",
    "y = cancer_data['diagnosis']"
   ],
   "metadata": {
    "collapsed": false
   },
   "id": "1bd8a48901527b73"
  },
  {
   "cell_type": "code",
   "execution_count": null,
   "outputs": [],
   "source": [
    "xtrain, xtest, ytrain, ytest = train_test_split(x, y, test_size=0.2, random_state=2)"
   ],
   "metadata": {
    "collapsed": false
   },
   "id": "c0a3594064b17561"
  },
  {
   "cell_type": "code",
   "execution_count": null,
   "outputs": [],
   "source": [
    "from sklearn.preprocessing import StandardScaler\n",
    "scaled = StandardScaler()\n",
    "xtrain_std = scaled.fit_transform(xtrain)\n",
    "xtest_std = scaled.transform(xtest)"
   ],
   "metadata": {
    "collapsed": false
   },
   "id": "ca9d0d3dd4e42479"
  },
  {
   "cell_type": "code",
   "execution_count": null,
   "outputs": [],
   "source": [
    "import tensorflow as tf\n",
    "tf.random.set_seed(3)\n",
    "from tensorflow import keras"
   ],
   "metadata": {
    "collapsed": false
   },
   "id": "64084489380df796"
  },
  {
   "cell_type": "code",
   "execution_count": null,
   "outputs": [],
   "source": [
    "model = keras.Sequential([\n",
    "    keras.layers.Flatten(input_shape=(30,)),\n",
    "    keras.layers.Dense(20, activation='relu'),\n",
    "    keras.layers.Dense(2, activation='sigmoid')\n",
    "])"
   ],
   "metadata": {
    "collapsed": false
   },
   "id": "620f3a4a42014852"
  },
  {
   "cell_type": "code",
   "execution_count": null,
   "outputs": [],
   "source": [
    "model.compile(optimizer='adam', loss='sparse_categorical_crossentropy', metrics=['accuracy']) "
   ],
   "metadata": {
    "collapsed": false
   },
   "id": "9b0491575c864bea"
  },
  {
   "cell_type": "code",
   "execution_count": null,
   "outputs": [],
   "source": [
    "history = model.fit(xtrain_std, ytrain, validation_split=0.1, epochs=10)"
   ],
   "metadata": {
    "collapsed": false
   },
   "id": "e2fa345a5b3e29de"
  },
  {
   "cell_type": "code",
   "execution_count": null,
   "outputs": [],
   "source": [
    "plt.plot(history.history['accuracy'])\n",
    "plt.plot(history.history['val_accuracy'])"
   ],
   "metadata": {
    "collapsed": false
   },
   "id": "725a591358d6e1b6"
  },
  {
   "cell_type": "code",
   "execution_count": null,
   "outputs": [],
   "source": [
    "plt.plot(history.history['loss'])\n",
    "plt.plot(history.history['val_loss'])"
   ],
   "metadata": {
    "collapsed": false
   },
   "id": "8ff890ac21780248"
  },
  {
   "cell_type": "code",
   "execution_count": null,
   "outputs": [],
   "source": [
    "loss, accuracy = model.evaluate(xtest_std, ytest)\n",
    "print(accuracy)"
   ],
   "metadata": {
    "collapsed": false
   },
   "id": "1fcf1576b995b9d8"
  },
  {
   "cell_type": "code",
   "execution_count": null,
   "outputs": [],
   "source": [],
   "metadata": {
    "collapsed": false
   },
   "id": "458028c557e352c0"
  }
 ],
 "metadata": {
  "kernelspec": {
   "display_name": "Python 3",
   "language": "python",
   "name": "python3"
  },
  "language_info": {
   "codemirror_mode": {
    "name": "ipython",
    "version": 2
   },
   "file_extension": ".py",
   "mimetype": "text/x-python",
   "name": "python",
   "nbconvert_exporter": "python",
   "pygments_lexer": "ipython2",
   "version": "2.7.6"
  }
 },
 "nbformat": 4,
 "nbformat_minor": 5
}
